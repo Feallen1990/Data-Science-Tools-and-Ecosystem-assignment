{
 "cells": [
  {
   "cell_type": "markdown",
   "id": "c7f96bf7-173a-46bf-8693-eba9f9cbac31",
   "metadata": {},
   "source": [
    "# Data Science Tools and Ecosystem"
   ]
  },
  {
   "attachments": {},
   "cell_type": "markdown",
   "id": "cb73348e-ab0a-4be0-bbce-b18f186e0d4c",
   "metadata": {},
   "source": [
    "This is a notebook, where Data Science tools and Ecosystem are summarized."
   ]
  },
  {
   "cell_type": "markdown",
   "id": "66709453-5405-46af-a616-2339eb6c0bc0",
   "metadata": {},
   "source": [
    "Some commonly used languages used for Data Science include:\n",
    "1. Python\n",
    "2. R\n",
    "3. Java\n",
    "4. SQL\n",
    "    and more"
   ]
  },
  {
   "cell_type": "markdown",
   "id": "18778dfa-db03-4923-b5a3-0b64d1e29699",
   "metadata": {},
   "source": [
    "These are libraries that are commonly used for Data Science\n",
    "\n",
    "1. ggplot\n",
    "2. Pandas\n",
    "3. Scypi"
   ]
  },
  {
   "cell_type": "markdown",
   "id": "68156260-46a0-4587-9fde-bfa6c9c772e8",
   "metadata": {},
   "source": [
    "| **Data Science Tools**|\n",
    "|-----------------------|\n",
    "| VS Code |\n",
    "| JupyterLite |\n",
    "| Google Colaboratory |"
   ]
  },
  {
   "cell_type": "markdown",
   "id": "e873f881-217e-4df2-a500-4c8c51b3a8dc",
   "metadata": {},
   "source": [
    "### Using Python to evaluate arithmetic expresions"
   ]
  },
  {
   "cell_type": "code",
   "execution_count": 2,
   "id": "9d9c8796-6746-44cc-999e-9fd194d6adf5",
   "metadata": {},
   "outputs": [
    {
     "data": {
      "text/plain": [
       "17"
      ]
     },
     "execution_count": 2,
     "metadata": {},
     "output_type": "execute_result"
    }
   ],
   "source": [
    "# Running a simple calculation of multiplication and addition of integers\n",
    "(3*4)+5"
   ]
  },
  {
   "cell_type": "code",
   "execution_count": 3,
   "id": "8905e9e1-1629-4579-ba33-139a6f506e82",
   "metadata": {},
   "outputs": [
    {
     "data": {
      "text/plain": [
       "3.3333333333333335"
      ]
     },
     "execution_count": 3,
     "metadata": {},
     "output_type": "execute_result"
    }
   ],
   "source": [
    "# converting 200 minutes to hours\n",
    "200/60"
   ]
  },
  {
   "cell_type": "markdown",
   "id": "48fcad58-e176-4215-a488-a83038526153",
   "metadata": {},
   "source": [
    "**Objectives:**\n",
    "- List commonly used Data Science Languages\n",
    "- List Libraries that are commonly used For Data Science\n",
    "- List some Open source Data Science enviroments\n",
    "- run some simple arithmetic expresions in Python"
   ]
  },
  {
   "cell_type": "markdown",
   "id": "35342a48-09a3-4d05-aa4b-c3ba1cdf2aaf",
   "metadata": {},
   "source": [
    "## Author: \n",
    "Jackson C Northrup"
   ]
  },
  {
   "cell_type": "code",
   "execution_count": null,
   "id": "8337e7b7-680f-4e72-bbe0-f9aa5a34d8ac",
   "metadata": {},
   "outputs": [],
   "source": []
  }
 ],
 "metadata": {
  "kernelspec": {
   "display_name": "Python 3 (ipykernel)",
   "language": "python",
   "name": "python3"
  },
  "language_info": {
   "codemirror_mode": {
    "name": "ipython",
    "version": 3
   },
   "file_extension": ".py",
   "mimetype": "text/x-python",
   "name": "python",
   "nbconvert_exporter": "python",
   "pygments_lexer": "ipython3",
   "version": "3.11.9"
  }
 },
 "nbformat": 4,
 "nbformat_minor": 5
}
